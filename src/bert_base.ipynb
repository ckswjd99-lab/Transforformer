{
 "cells": [
  {
   "cell_type": "markdown",
   "metadata": {},
   "source": [
    "# Train BERT-base from scratch\n",
    "\n",
    "I'm try to train my own BERT-base model, then adjust some structure.\n",
    "\n",
    "Codes mostly from: https://medium.com/data-and-beyond/complete-guide-to-building-bert-model-from-sratch-3e6562228891"
   ]
  },
  {
   "cell_type": "markdown",
   "metadata": {},
   "source": [
    "## Download Dataset"
   ]
  },
  {
   "cell_type": "code",
   "execution_count": 1,
   "metadata": {},
   "outputs": [
    {
     "name": "stderr",
     "output_type": "stream",
     "text": [
      "/home/cjpark/anaconda3/envs/tflite/lib/python3.8/site-packages/tqdm/auto.py:21: TqdmWarning: IProgress not found. Please update jupyter and ipywidgets. See https://ipywidgets.readthedocs.io/en/stable/user_install.html\n",
      "  from .autonotebook import tqdm as notebook_tqdm\n"
     ]
    }
   ],
   "source": [
    "import os\n",
    "import random\n",
    "from tokenizers import BertWordPieceTokenizer\n",
    "from transformers import BertTokenizer\n",
    "import torch\n",
    "from torch.utils.data import DataLoader\n",
    "\n",
    "from bert_base import BERTDataset, BERTLM, BERT, BERTTrainer\n"
   ]
  },
  {
   "cell_type": "code",
   "execution_count": 2,
   "metadata": {},
   "outputs": [
    {
     "name": "stdout",
     "output_type": "stream",
     "text": [
      "Dataset Prepared!\n"
     ]
    }
   ],
   "source": [
    "## DOWNLOAD DATASET ##\n",
    "\n",
    "if not os.path.exists('../datasets'):\n",
    "    os.system('mkdir ../datasets')\n",
    "    os.system('wget http://www.cs.cornell.edu/~cristian/data/cornell_movie_dialogs_corpus.zip -O ../datasets/cornell_movie_dialogs_corpus.zip -q')\n",
    "    os.system('unzip -qq ../datasets/cornell_movie_dialogs_corpus.zip -d ../datasets')\n",
    "    os.system('mv ../datasets/cornell\\ movie-dialogs\\ corpus/movie_conversations.txt ../datasets')\n",
    "    os.system('mv ../datasets/cornell\\ movie-dialogs\\ corpus/movie_lines.txt ../datasets')\n",
    "    os.system('rm ../datasets/cornell_movie_dialogs_corpus.zip')\n",
    "    os.system('rm -rf ../datasets/cornell\\ movie-dialogs\\ corpus')\n",
    "    os.system('rm -rf ../datasets/__MACOSX')\n",
    "\n",
    "print('Dataset Prepared!')\n",
    "  "
   ]
  },
  {
   "cell_type": "code",
   "execution_count": 3,
   "metadata": {},
   "outputs": [
    {
     "name": "stdout",
     "output_type": "stream",
     "text": [
      "Device: cuda\n"
     ]
    }
   ],
   "source": [
    "## SET HYPERPARAMS ##\n",
    "\n",
    "MAX_LEN = 64\n",
    "BATCH_SIZE = 32\n",
    "LEARNING_RATE= 1e-4\n",
    "WEIGHT_DECAY=0.01\n",
    "BETAS=(0.9, 0.999)\n",
    "TRAIN_RATIO = 0.9\n",
    "\n",
    "## SET DEVICE ##\n",
    "DEVICE = 'cuda' if torch.cuda.is_available() else 'cpu'\n",
    "print('Device:', DEVICE)\n",
    "if DEVICE != 'cuda':\n",
    "    print('Warning: CPU is not recommended!')"
   ]
  },
  {
   "cell_type": "code",
   "execution_count": 4,
   "metadata": {},
   "outputs": [
    {
     "name": "stdout",
     "output_type": "stream",
     "text": [
      "[\"I really, really, really wanna go, but I can't. Not unless my sister goes.\", \"I'm workin' on it. But she doesn't seem to be goin' for him.\"]\n"
     ]
    }
   ],
   "source": [
    "## PREPARE DATASET ##\n",
    "\n",
    "### loading all data into memory\n",
    "corpus_movie_conv = '../datasets/movie_conversations.txt'\n",
    "corpus_movie_lines = '../datasets/movie_lines.txt'\n",
    "with open(corpus_movie_conv, 'r', encoding='iso-8859-1') as c:\n",
    "    conv = c.readlines()\n",
    "with open(corpus_movie_lines, 'r', encoding='iso-8859-1') as l:\n",
    "    lines = l.readlines()\n",
    "\n",
    "### splitting text using special lines\n",
    "lines_dic = {}\n",
    "for line in lines:\n",
    "    objects = line.split(\" +++$+++ \")\n",
    "    lines_dic[objects[0]] = objects[-1]\n",
    "\n",
    "### generate question answer pairs\n",
    "pairs = []\n",
    "for con in conv:\n",
    "    ids = eval(con.split(\" +++$+++ \")[-1])\n",
    "    for i in range(len(ids)):\n",
    "        qa_pairs = []\n",
    "        \n",
    "        if i == len(ids) - 1:\n",
    "            break\n",
    "\n",
    "        first = lines_dic[ids[i]].strip()  \n",
    "        second = lines_dic[ids[i+1]].strip() \n",
    "\n",
    "        qa_pairs.append(' '.join(first.split()[:MAX_LEN]))\n",
    "        qa_pairs.append(' '.join(second.split()[:MAX_LEN]))\n",
    "        pairs.append(qa_pairs)\n",
    "\n",
    "### check some pairs\n",
    "print(pairs[20])\n",
    "\n",
    "### split dataset into train and test\n",
    "random.shuffle(pairs)\n",
    "train_size = int(len(pairs) * TRAIN_RATIO)\n",
    "train_pairs = pairs[:train_size]\n",
    "test_pairs = pairs[train_size:]\n"
   ]
  },
  {
   "cell_type": "code",
   "execution_count": 5,
   "metadata": {},
   "outputs": [
    {
     "name": "stdout",
     "output_type": "stream",
     "text": [
      "{'bert_input': tensor([ 101, 1045, 1005, 1049, 2183, 2000, 2681,  103,  103,  102, 2848, 1010,\n",
      "        2017, 2481, 1005, 1056, 2130, 8081, 2256, 2694,  999,  102,    0,    0,\n",
      "           0,    0,    0,    0,    0,    0,    0,    0,    0,    0,    0,    0,\n",
      "           0,    0,    0,    0,    0,    0,    0,    0,    0,    0,    0,    0,\n",
      "           0,    0,    0,    0,    0,    0,    0,    0,    0,    0,    0,    0,\n",
      "           0,    0,    0,    0]), 'bert_label': tensor([   0,    0,    0,    0,    0,    0,    0, 2085, 1012,    0,    0,    0,\n",
      "           0,    0,    0,    0,    0,    0,    0,    0,    0,    0,    0,    0,\n",
      "           0,    0,    0,    0,    0,    0,    0,    0,    0,    0,    0,    0,\n",
      "           0,    0,    0,    0,    0,    0,    0,    0,    0,    0,    0,    0,\n",
      "           0,    0,    0,    0,    0,    0,    0,    0,    0,    0,    0,    0,\n",
      "           0,    0,    0,    0]), 'segment_label': tensor([1, 1, 1, 1, 1, 1, 1, 1, 1, 1, 2, 2, 2, 2, 2, 2, 2, 2, 2, 2, 2, 2, 0, 0,\n",
      "        0, 0, 0, 0, 0, 0, 0, 0, 0, 0, 0, 0, 0, 0, 0, 0, 0, 0, 0, 0, 0, 0, 0, 0,\n",
      "        0, 0, 0, 0, 0, 0, 0, 0, 0, 0, 0, 0, 0, 0, 0, 0]), 'is_next': tensor(0)}\n"
     ]
    }
   ],
   "source": [
    "## PREPARE TRAINING ##\n",
    "\n",
    "tokenizer = BertTokenizer.from_pretrained('bert-base-uncased')\n",
    "\n",
    "train_data = BERTDataset(train_pairs, seq_len=MAX_LEN, tokenizer=tokenizer)\n",
    "test_data = BERTDataset(test_pairs, seq_len=MAX_LEN, tokenizer=tokenizer)\n",
    "\n",
    "train_loader = DataLoader(train_data, batch_size=BATCH_SIZE, shuffle=True, pin_memory=True)\n",
    "test_loader = DataLoader(test_data, batch_size=BATCH_SIZE, shuffle=True, pin_memory=True)\n",
    "\n",
    "sample_data = next(iter(train_loader))\n",
    "print(train_data[random.randrange(len(train_data))])"
   ]
  },
  {
   "cell_type": "code",
   "execution_count": 6,
   "metadata": {},
   "outputs": [
    {
     "name": "stdout",
     "output_type": "stream",
     "text": [
      "Total Parameters: 61088828\n"
     ]
    },
    {
     "name": "stderr",
     "output_type": "stream",
     "text": [
      "EP_train:0: 100%|| 6233/6233 [39:49<00:00,  2.61it/s, avg_loss=6.17, avg_acc=50, loss=6.35, acc=56.7]  \n"
     ]
    },
    {
     "name": "stdout",
     "output_type": "stream",
     "text": [
      "EP0, train:             avg_loss=6.167640882262865,             total_acc=49.98997262526698\n"
     ]
    },
    {
     "ename": "TypeError",
     "evalue": "test() missing 1 required positional argument: 'epoch'",
     "output_type": "error",
     "traceback": [
      "\u001b[0;31m---------------------------------------------------------------------------\u001b[0m",
      "\u001b[0;31mTypeError\u001b[0m                                 Traceback (most recent call last)",
      "\u001b[1;32m/home/cjpark/workspace/Transforformer/src/bert_base.ipynb Cell 8\u001b[0m line \u001b[0;36m1\n\u001b[1;32m     <a href='vscode-notebook-cell://wsl%2Bubuntu-20.04/home/cjpark/workspace/Transforformer/src/bert_base.ipynb#X14sdnNjb2RlLXJlbW90ZQ%3D%3D?line=15'>16</a>\u001b[0m \u001b[39mfor\u001b[39;00m epoch \u001b[39min\u001b[39;00m \u001b[39mrange\u001b[39m(epochs):\n\u001b[1;32m     <a href='vscode-notebook-cell://wsl%2Bubuntu-20.04/home/cjpark/workspace/Transforformer/src/bert_base.ipynb#X14sdnNjb2RlLXJlbW90ZQ%3D%3D?line=16'>17</a>\u001b[0m   bert_trainer\u001b[39m.\u001b[39mtrain(epoch)\n\u001b[0;32m---> <a href='vscode-notebook-cell://wsl%2Bubuntu-20.04/home/cjpark/workspace/Transforformer/src/bert_base.ipynb#X14sdnNjb2RlLXJlbW90ZQ%3D%3D?line=17'>18</a>\u001b[0m   bert_trainer\u001b[39m.\u001b[39;49mtest()\n",
      "\u001b[0;31mTypeError\u001b[0m: test() missing 1 required positional argument: 'epoch'"
     ]
    }
   ],
   "source": [
    "## TRAINING ##\n",
    "\n",
    "bert_model = BERT(\n",
    "  vocab_size=len(tokenizer.vocab),\n",
    "  d_model=768,\n",
    "  n_layers=2,\n",
    "  heads=12,\n",
    "  dropout=0.1,\n",
    "  device=DEVICE\n",
    ")\n",
    "\n",
    "bert_lm = BERTLM(bert_model, len(tokenizer.vocab), device=DEVICE)\n",
    "bert_trainer = BERTTrainer(bert_lm, train_loader, test_loader, device=DEVICE, lr=LEARNING_RATE, betas=BETAS, weight_decay=WEIGHT_DECAY, log_freq=1)\n",
    "epochs = 20\n",
    "\n",
    "for epoch in range(epochs):\n",
    "  bert_trainer.train(epoch)\n",
    "  bert_trainer.test(epoch)\n"
   ]
  },
  {
   "cell_type": "code",
   "execution_count": null,
   "metadata": {},
   "outputs": [],
   "source": [
    "## SAVE MODEL ##\n",
    "torch.save(bert_model.state_dict(), 'bert_base.pth')"
   ]
  }
 ],
 "metadata": {
  "kernelspec": {
   "display_name": "tflite",
   "language": "python",
   "name": "python3"
  },
  "language_info": {
   "codemirror_mode": {
    "name": "ipython",
    "version": 3
   },
   "file_extension": ".py",
   "mimetype": "text/x-python",
   "name": "python",
   "nbconvert_exporter": "python",
   "pygments_lexer": "ipython3",
   "version": "3.8.18"
  }
 },
 "nbformat": 4,
 "nbformat_minor": 2
}
